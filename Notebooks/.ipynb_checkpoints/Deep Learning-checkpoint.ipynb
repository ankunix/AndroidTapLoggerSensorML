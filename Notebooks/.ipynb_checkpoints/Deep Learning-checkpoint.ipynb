{
 "cells": [
  {
   "cell_type": "markdown",
   "metadata": {},
   "source": [
    "### TensorFlow & Keras based NN Training"
   ]
  },
  {
   "cell_type": "code",
   "execution_count": 1,
   "metadata": {},
   "outputs": [
    {
     "name": "stderr",
     "output_type": "stream",
     "text": [
      "Using TensorFlow backend.\n"
     ]
    }
   ],
   "source": [
    "import numpy\n",
    "import pandasa\n",
    "y\n",
    "from keras.models import Sequential\n",
    "from keras.layers import Dense\n",
    "from keras.wrappers.scikit_learn import KerasClassifier\n",
    "from keras.utils import np_utils\n",
    "from sklearn.model_selection import cross_val_score\n",
    "from sklearn.model_selection import KFold\n",
    "from sklearn.preprocessing import LabelEncoder\n",
    "from sklearn.pipeline import Pipeline"
   ]
  },
  {
   "cell_type": "code",
   "execution_count": 2,
   "metadata": {
    "collapsed": true
   },
   "outputs": [],
   "source": [
    "# fix random seed for reproducibility\n",
    "seed = 7\n",
    "numpy.random.seed(seed)"
   ]
  },
  {
   "cell_type": "code",
   "execution_count": 16,
   "metadata": {},
   "outputs": [],
   "source": [
    "df1=pandas.read_csv('../Data/Features/201711092033_features.csv').reset_index().dropna()"
   ]
  },
  {
   "cell_type": "code",
   "execution_count": 17,
   "metadata": {},
   "outputs": [],
   "source": [
    "X=df1[[u'lastAccelerometerValues[0]_mean',\n",
    "       u'lastAccelerometerValues[1]_mean', u'lastAccelerometerValues[2]_mean',\n",
    "       u'lastAccelerometerValues[0]_var', u'lastAccelerometerValues[1]_var',\n",
    "       u'lastAccelerometerValues[2]_var', u'lastAccelerometerValues[0]_skew',\n",
    "       u'lastAccelerometerValues[1]_skew', u'lastAccelerometerValues[2]_skew',\n",
    "       u'lastAccelerometerValues[0]_kurtosis',\n",
    "       u'lastAccelerometerValues[1]_kurtosis',\n",
    "       u'lastAccelerometerValues[2]_kurtosis', u'lastGyroscopeValues[0]_mean',\n",
    "       u'lastGyroscopeValues[1]_mean', u'lastGyroscopeValues[2]_mean',\n",
    "       u'lastGyroscopeValues[0]_var', u'lastGyroscopeValues[1]_var',\n",
    "       u'lastGyroscopeValues[2]_var', u'lastGyroscopeValues[0]_skew',\n",
    "       u'lastGyroscopeValues[1]_skew', u'lastGyroscopeValues[2]_skew',\n",
    "       u'lastGyroscopeValues[0]_kurtosis', u'lastGyroscopeValues[1]_kurtosis',\n",
    "       u'lastGyroscopeValues[2]_kurtosis', u'lastMagnetometerValues[0]_mean',\n",
    "       u'lastMagnetometerValues[1]_mean', u'lastMagnetometerValues[2]_mean',\n",
    "       u'lastMagnetometerValues[0]_var', u'lastMagnetometerValues[1]_var',\n",
    "       u'lastMagnetometerValues[2]_var', u'lastMagnetometerValues[0]_skew',\n",
    "       u'lastMagnetometerValues[1]_skew', u'lastMagnetometerValues[2]_skew',\n",
    "       u'lastMagnetometerValues[0]_kurtosis',\n",
    "       u'lastMagnetometerValues[1]_kurtosis',\n",
    "       u'lastMagnetometerValues[2]_kurtosis']]\n",
    "Y=df1[['target']]"
   ]
  },
  {
   "cell_type": "code",
   "execution_count": 18,
   "metadata": {},
   "outputs": [],
   "source": [
    "# encode class values as integers\n",
    "encoder = LabelEncoder()\n",
    "encoder.fit(Y)\n",
    "encoded_Y = encoder.transform(Y)"
   ]
  },
  {
   "cell_type": "code",
   "execution_count": 19,
   "metadata": {
    "collapsed": true
   },
   "outputs": [],
   "source": [
    "# convert integers to dummy variables (i.e. one hot encoded)\n",
    "dummy_y = np_utils.to_categorical(encoded_Y)"
   ]
  },
  {
   "cell_type": "markdown",
   "metadata": {},
   "source": [
    "36 inputs -> [40 hidden nodes] -> 144 outputs"
   ]
  },
  {
   "cell_type": "code",
   "execution_count": 20,
   "metadata": {
    "collapsed": true
   },
   "outputs": [],
   "source": [
    "# define baseline model\n",
    "def baseline_model():\n",
    "    # create model\n",
    "    model = Sequential()\n",
    "    model.add(Dense(40, input_dim=36, activation='relu'))\n",
    "    model.add(Dense(144, activation='softmax'))\n",
    "    # Compile model\n",
    "    model.compile(loss='categorical_crossentropy', optimizer='adam', metrics=['accuracy'])\n",
    "    return model"
   ]
  },
  {
   "cell_type": "code",
   "execution_count": 21,
   "metadata": {
    "collapsed": true
   },
   "outputs": [],
   "source": [
    "estimator = KerasClassifier(build_fn=baseline_model, epochs=200, batch_size=5, verbose=0)"
   ]
  },
  {
   "cell_type": "code",
   "execution_count": 22,
   "metadata": {
    "collapsed": true
   },
   "outputs": [],
   "source": [
    "kfold = KFold(n_splits=10, shuffle=True, random_state=seed)"
   ]
  },
  {
   "cell_type": "code",
   "execution_count": 24,
   "metadata": {},
   "outputs": [
    {
     "name": "stdout",
     "output_type": "stream",
     "text": [
      "Baseline: 2.02% (0.79%)\n"
     ]
    }
   ],
   "source": [
    "results = cross_val_score(estimator, X.values, dummy_y, cv=kfold)\n",
    "print(\"Baseline: %.2f%% (%.2f%%)\" % (results.mean()*100, results.std()*100))"
   ]
  },
  {
   "cell_type": "code",
   "execution_count": 26,
   "metadata": {},
   "outputs": [
    {
     "data": {
      "text/plain": [
       "(1439, 36)"
      ]
     },
     "execution_count": 26,
     "metadata": {},
     "output_type": "execute_result"
    }
   ],
   "source": [
    "X.shape"
   ]
  },
  {
   "cell_type": "code",
   "execution_count": null,
   "metadata": {
    "collapsed": true
   },
   "outputs": [],
   "source": []
  },
  {
   "cell_type": "code",
   "execution_count": null,
   "metadata": {
    "collapsed": true
   },
   "outputs": [],
   "source": []
  }
 ],
 "metadata": {
  "kernelspec": {
   "display_name": "Python 2",
   "language": "python",
   "name": "python2"
  },
  "language_info": {
   "codemirror_mode": {
    "name": "ipython",
    "version": 2
   },
   "file_extension": ".py",
   "mimetype": "text/x-python",
   "name": "python",
   "nbconvert_exporter": "python",
   "pygments_lexer": "ipython2",
   "version": "2.7.13"
  }
 },
 "nbformat": 4,
 "nbformat_minor": 2
}
