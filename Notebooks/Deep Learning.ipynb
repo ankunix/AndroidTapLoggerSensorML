{
 "cells": [
  {
   "cell_type": "markdown",
   "metadata": {},
   "source": [
    "### TensorFlow & Keras based NN Training"
   ]
  },
  {
   "cell_type": "code",
   "execution_count": 1,
   "metadata": {},
   "outputs": [
    {
     "name": "stderr",
     "output_type": "stream",
     "text": [
      "Using TensorFlow backend.\n"
     ]
    }
   ],
   "source": [
    "import numpy\n",
    "import pandas\n",
    "import glob\n",
    "import logging\n",
    "from collections import OrderedDict as od\n",
    "from keras.models import Sequential\n",
    "from keras.layers import Dense\n",
    "from keras.wrappers.scikit_learn import KerasClassifier\n",
    "from keras.utils import np_utils\n",
    "from sklearn.model_selection import cross_val_score\n",
    "from sklearn.model_selection import KFold\n",
    "from sklearn.preprocessing import LabelEncoder\n",
    "from sklearn.pipeline import Pipeline"
   ]
  },
  {
   "cell_type": "code",
   "execution_count": 2,
   "metadata": {
    "collapsed": true
   },
   "outputs": [],
   "source": [
    "# fix random seed for reproducibility\n",
    "seed = 7\n",
    "numpy.random.seed(seed)"
   ]
  },
  {
   "cell_type": "code",
   "execution_count": 3,
   "metadata": {},
   "outputs": [
    {
     "name": "stdout",
     "output_type": "stream",
     "text": [
      "201711092033\n",
      "201711091951\n",
      "201711182141\n",
      "201711161638\n"
     ]
    }
   ],
   "source": [
    "data=od()\n",
    "for filename in glob.glob('../Data/Features/*'):\n",
    "    key=filename.split('/')[-1].split('_')[0]\n",
    "    print(key)\n",
    "    data[key]=pandas.read_csv(filename).reset_index().dropna()"
   ]
  },
  {
   "cell_type": "code",
   "execution_count": 4,
   "metadata": {},
   "outputs": [],
   "source": [
    "def splitX_Y(df):\n",
    "    X=df[[u'lastAccelerometerValues[0]_mean_D',\n",
    "       u'lastAccelerometerValues[1]_mean_D', u'lastAccelerometerValues[2]_mean_D',\n",
    "       u'lastAccelerometerValues[0]_var_D', u'lastAccelerometerValues[1]_var_D',\n",
    "       u'lastAccelerometerValues[2]_var_D', u'lastAccelerometerValues[0]_skew_D',\n",
    "       u'lastAccelerometerValues[1]_skew_D', u'lastAccelerometerValues[2]_skew_D',\n",
    "       u'lastAccelerometerValues[0]_kurtosis_D',\n",
    "       u'lastAccelerometerValues[1]_kurtosis_D',\n",
    "       u'lastAccelerometerValues[2]_kurtosis_D', u'lastGyroscopeValues[0]_mean_D',\n",
    "       u'lastGyroscopeValues[1]_mean_D', u'lastGyroscopeValues[2]_mean_D',\n",
    "       u'lastGyroscopeValues[0]_var_D', u'lastGyroscopeValues[1]_var_D',\n",
    "       u'lastGyroscopeValues[2]_var_D', u'lastGyroscopeValues[0]_skew_D',\n",
    "       u'lastGyroscopeValues[1]_skew_D', u'lastGyroscopeValues[2]_skew_D',\n",
    "       u'lastGyroscopeValues[0]_kurtosis_D', u'lastGyroscopeValues[1]_kurtosis_D',\n",
    "       u'lastGyroscopeValues[2]_kurtosis_D', u'lastMagnetometerValues[0]_mean_D',\n",
    "       u'lastMagnetometerValues[1]_mean_D', u'lastMagnetometerValues[2]_mean_D',\n",
    "       u'lastMagnetometerValues[0]_var_D', u'lastMagnetometerValues[1]_var_D',\n",
    "       u'lastMagnetometerValues[2]_var_D', u'lastMagnetometerValues[0]_skew_D',\n",
    "       u'lastMagnetometerValues[1]_skew_D', u'lastMagnetometerValues[2]_skew_D',\n",
    "       u'lastMagnetometerValues[0]_kurtosis_D',\n",
    "       u'lastMagnetometerValues[1]_kurtosis_D',\n",
    "       u'lastMagnetometerValues[2]_kurtosis_D',\n",
    "         u'lastAccelerometerValues[0]_mean_U',\n",
    "       u'lastAccelerometerValues[1]_mean_U', u'lastAccelerometerValues[2]_mean_U',\n",
    "       u'lastAccelerometerValues[0]_var_U', u'lastAccelerometerValues[1]_var_U',\n",
    "       u'lastAccelerometerValues[2]_var_U', u'lastAccelerometerValues[0]_skew_U',\n",
    "       u'lastAccelerometerValues[1]_skew_U', u'lastAccelerometerValues[2]_skew_U',\n",
    "       u'lastAccelerometerValues[0]_kurtosis_U',\n",
    "       u'lastAccelerometerValues[1]_kurtosis_U',\n",
    "       u'lastAccelerometerValues[2]_kurtosis_U', u'lastGyroscopeValues[0]_mean_U',\n",
    "       u'lastGyroscopeValues[1]_mean_U', u'lastGyroscopeValues[2]_mean_U',\n",
    "       u'lastGyroscopeValues[0]_var_U', u'lastGyroscopeValues[1]_var_U',\n",
    "       u'lastGyroscopeValues[2]_var_U', u'lastGyroscopeValues[0]_skew_U',\n",
    "       u'lastGyroscopeValues[1]_skew_U', u'lastGyroscopeValues[2]_skew_U',\n",
    "       u'lastGyroscopeValues[0]_kurtosis_U', u'lastGyroscopeValues[1]_kurtosis_U',\n",
    "       u'lastGyroscopeValues[2]_kurtosis_U', u'lastMagnetometerValues[0]_mean_U',\n",
    "       u'lastMagnetometerValues[1]_mean_U', u'lastMagnetometerValues[2]_mean_U',\n",
    "       u'lastMagnetometerValues[0]_var_U', u'lastMagnetometerValues[1]_var_U',\n",
    "       u'lastMagnetometerValues[2]_var_U', u'lastMagnetometerValues[0]_skew_U',\n",
    "       u'lastMagnetometerValues[1]_skew_U', u'lastMagnetometerValues[2]_skew_U',\n",
    "       u'lastMagnetometerValues[0]_kurtosis_U',\n",
    "       u'lastMagnetometerValues[1]_kurtosis_U',\n",
    "       u'lastMagnetometerValues[2]_kurtosis_U']]\n",
    "    Y=df[['target']]\n",
    "    return X, Y"
   ]
  },
  {
   "cell_type": "code",
   "execution_count": 5,
   "metadata": {},
   "outputs": [],
   "source": [
    "X=pandas.DataFrame()\n",
    "Y=pandas.DataFrame()\n",
    "for key in data.keys():\n",
    "    x,y=splitX_Y(data[key])\n",
    "    X=X.append(x)\n",
    "    Y=Y.append(y)\n",
    "X=X.reset_index().drop(['index'],axis=1)\n",
    "Y=Y.reset_index().drop(['index'],axis=1)"
   ]
  },
  {
   "cell_type": "code",
   "execution_count": 6,
   "metadata": {},
   "outputs": [],
   "source": [
    "Y0=Y.applymap(lambda x:0 if x<72 else 1)"
   ]
  },
  {
   "cell_type": "code",
   "execution_count": 7,
   "metadata": {},
   "outputs": [],
   "source": [
    "Y1=Y.applymap(lambda x: x//36)"
   ]
  },
  {
   "cell_type": "code",
   "execution_count": 8,
   "metadata": {},
   "outputs": [],
   "source": [
    "Y2=Y.applymap(lambda x: x//18)"
   ]
  },
  {
   "cell_type": "code",
   "execution_count": 9,
   "metadata": {},
   "outputs": [],
   "source": [
    "Y3=Y.applymap(lambda x: x//9)"
   ]
  },
  {
   "cell_type": "code",
   "execution_count": 10,
   "metadata": {},
   "outputs": [
    {
     "name": "stderr",
     "output_type": "stream",
     "text": [
      "/usr/local/lib/python2.7/site-packages/sklearn/preprocessing/label.py:112: DataConversionWarning: A column-vector y was passed when a 1d array was expected. Please change the shape of y to (n_samples, ), for example using ravel().\n",
      "  y = column_or_1d(y, warn=True)\n",
      "/usr/local/lib/python2.7/site-packages/sklearn/preprocessing/label.py:147: DataConversionWarning: A column-vector y was passed when a 1d array was expected. Please change the shape of y to (n_samples, ), for example using ravel().\n",
      "  y = column_or_1d(y, warn=True)\n"
     ]
    }
   ],
   "source": [
    "# encode class values as integers\n",
    "encoder = LabelEncoder()\n",
    "encoder.fit(Y0)\n",
    "encoded_Y0 = encoder.transform(Y0)"
   ]
  },
  {
   "cell_type": "code",
   "execution_count": 11,
   "metadata": {
    "collapsed": true
   },
   "outputs": [],
   "source": [
    "# encode class values as integers\n",
    "encoder = LabelEncoder()\n",
    "encoder.fit(Y1)\n",
    "encoded_Y1 = encoder.transform(Y1)"
   ]
  },
  {
   "cell_type": "code",
   "execution_count": 12,
   "metadata": {
    "collapsed": true
   },
   "outputs": [],
   "source": [
    "# encode class values as integers\n",
    "encoder = LabelEncoder()\n",
    "encoder.fit(Y2)\n",
    "encoded_Y2 = encoder.transform(Y2)"
   ]
  },
  {
   "cell_type": "code",
   "execution_count": 13,
   "metadata": {
    "collapsed": true
   },
   "outputs": [],
   "source": [
    "# encode class values as integers\n",
    "encoder = LabelEncoder()\n",
    "encoder.fit(Y3)\n",
    "encoded_Y3 = encoder.transform(Y3)"
   ]
  },
  {
   "cell_type": "code",
   "execution_count": 14,
   "metadata": {
    "collapsed": true
   },
   "outputs": [],
   "source": [
    "# convert integers to dummy variables (i.e. one hot encoded)\n",
    "dummy_y0 = np_utils.to_categorical(encoded_Y0)\n",
    "dummy_y1 = np_utils.to_categorical(encoded_Y1)\n",
    "dummy_y2 = np_utils.to_categorical(encoded_Y2)\n",
    "dummy_y3 = np_utils.to_categorical(encoded_Y3)"
   ]
  },
  {
   "cell_type": "code",
   "execution_count": null,
   "metadata": {},
   "outputs": [],
   "source": []
  },
  {
   "cell_type": "markdown",
   "metadata": {},
   "source": [
    "### Model 0\n",
    "36 inputs -> [40 hidden nodes] -> 2 outputs"
   ]
  },
  {
   "cell_type": "code",
   "execution_count": 16,
   "metadata": {
    "collapsed": true
   },
   "outputs": [],
   "source": [
    "# define baseline model\n",
    "def model0():\n",
    "    # create model\n",
    "    model = Sequential()\n",
    "    model.add(Dense(80, input_dim=72, activation='relu'))\n",
    "    model.add(Dense(2, activation='softmax'))\n",
    "    # Compile model\n",
    "    model.compile(loss='categorical_crossentropy', optimizer='adam', metrics=['accuracy'])\n",
    "    return model"
   ]
  },
  {
   "cell_type": "markdown",
   "metadata": {},
   "source": [
    "## Model 1\n",
    "36 inputs -> [40 hidden nodes] -> 4 outputs"
   ]
  },
  {
   "cell_type": "code",
   "execution_count": 17,
   "metadata": {
    "collapsed": true
   },
   "outputs": [],
   "source": [
    "# define baseline model\n",
    "def model1():\n",
    "    # create model\n",
    "    model = Sequential()\n",
    "    model.add(Dense(80, input_dim=72, activation='relu'))\n",
    "    model.add(Dense(4, activation='softmax'))\n",
    "    # Compile model\n",
    "    model.compile(loss='categorical_crossentropy', optimizer='adam', metrics=['accuracy'])\n",
    "    return model"
   ]
  },
  {
   "cell_type": "markdown",
   "metadata": {},
   "source": [
    "## Model 2\n",
    "36 inputs -> [40 hidden nodes] -> 8 outputs"
   ]
  },
  {
   "cell_type": "code",
   "execution_count": 18,
   "metadata": {
    "collapsed": true
   },
   "outputs": [],
   "source": [
    "# define baseline model\n",
    "def model2():\n",
    "    # create model\n",
    "    model = Sequential()\n",
    "    model.add(Dense(80, input_dim=72, activation='relu'))\n",
    "    model.add(Dense(8, activation='softmax'))\n",
    "    # Compile model\n",
    "    model.compile(loss='categorical_crossentropy', optimizer='adam', metrics=['accuracy'])\n",
    "    return model"
   ]
  },
  {
   "cell_type": "markdown",
   "metadata": {},
   "source": [
    "## Model 3\n",
    "36 inputs -> [40 hidden nodes] -> 16 outputs"
   ]
  },
  {
   "cell_type": "code",
   "execution_count": 19,
   "metadata": {
    "collapsed": true
   },
   "outputs": [],
   "source": [
    "# define baseline model\n",
    "def model3():\n",
    "    # create model\n",
    "    model = Sequential()\n",
    "    model.add(Dense(80, input_dim=72, activation='relu'))\n",
    "    model.add(Dense(16, activation='softmax'))\n",
    "    # Compile model\n",
    "    model.compile(loss='categorical_crossentropy', optimizer='adam', metrics=['accuracy'])\n",
    "    return model"
   ]
  },
  {
   "cell_type": "code",
   "execution_count": 20,
   "metadata": {
    "collapsed": true
   },
   "outputs": [],
   "source": [
    "estimator0 = KerasClassifier(build_fn=model0, epochs=200, batch_size=5, verbose=0)\n",
    "estimator1 = KerasClassifier(build_fn=model1, epochs=200, batch_size=5, verbose=0)\n",
    "estimator2 = KerasClassifier(build_fn=model2, epochs=200, batch_size=5, verbose=0)\n",
    "estimator3 = KerasClassifier(build_fn=model3, epochs=200, batch_size=5, verbose=0)"
   ]
  },
  {
   "cell_type": "code",
   "execution_count": 21,
   "metadata": {
    "collapsed": true
   },
   "outputs": [],
   "source": [
    "kfold = KFold(n_splits=10, shuffle=True, random_state=seed)"
   ]
  },
  {
   "cell_type": "code",
   "execution_count": null,
   "metadata": {},
   "outputs": [],
   "source": [
    "%%time\n",
    "results0 = cross_val_score(estimator0, X.values, dummy_y0, cv=kfold)\n",
    "print(\"Baseline: %.2f%% (%.2f%%)\" % (results.mean()*100, results.std()*100))"
   ]
  },
  {
   "cell_type": "code",
   "execution_count": null,
   "metadata": {},
   "outputs": [],
   "source": [
    "%%time\n",
    "results1 = cross_val_score(estimator1, X.values, dummy_y1, cv=k2fold)\n",
    "print(\"Baseline: %.2f%% (%.2f%%)\" % (results.mean()*100, results.std()*100))"
   ]
  },
  {
   "cell_type": "code",
   "execution_count": null,
   "metadata": {},
   "outputs": [],
   "source": [
    "%%time\n",
    "results2 = cross_val_score(estimator2, X.values, dummy_y2, cv=kfold)\n",
    "print(\"Baseline: %.2f%% (%.2f%%)\" % (results.mean()*100, results.std()*100))"
   ]
  },
  {
   "cell_type": "code",
   "execution_count": null,
   "metadata": {
    "collapsed": true
   },
   "outputs": [],
   "source": [
    "%%time\n",
    "results3 = cross_val_score(estimator3, X.values, dummy_y3, cv=kfold)\n",
    "print(\"Baseline: %.2f%% (%.2f%%)\" % (results.mean()*100, results.std()*100))"
   ]
  },
  {
   "cell_type": "code",
   "execution_count": null,
   "metadata": {},
   "outputs": [],
   "source": [
    "history = estimator0.model.fit(X, Y0, validation_split=0.33, epochs=150, batch_size=10, verbose=0)"
   ]
  },
  {
   "cell_type": "code",
   "execution_count": null,
   "metadata": {},
   "outputs": [],
   "source": [
    "estimator2.model.fit(X.values,Y2.values)"
   ]
  },
  {
   "cell_type": "code",
   "execution_count": null,
   "metadata": {},
   "outputs": [],
   "source": [
    "import pydotplus"
   ]
  },
  {
   "cell_type": "markdown",
   "metadata": {
    "collapsed": true
   },
   "source": [
    "# import theano.d3viz as d3v\n",
    "d3v.d3viz(estimator.get_output(), 'test.html')"
   ]
  },
  {
   "cell_type": "code",
   "execution_count": null,
   "metadata": {},
   "outputs": [],
   "source": []
  },
  {
   "cell_type": "code",
   "execution_count": null,
   "metadata": {},
   "outputs": [],
   "source": [
    "hist0=estimator0.fit(X,Y0)"
   ]
  },
  {
   "cell_type": "code",
   "execution_count": null,
   "metadata": {},
   "outputs": [],
   "source": [
    "# Compute the correlation matrix\n",
    "corr = x.corr()\n",
    "\n",
    "# Generate a mask for the upper triangle\n",
    "mask = numpy.zeros_like(corr, dtype=numpy.bool)\n",
    "mask[numpy.triu_indices_from(mask)] = True\n",
    "\n",
    "# Set up the matplotlib figure\n",
    "f, ax = plt.subplots(figsize=(11, 9))\n",
    "\n",
    "# Generate a custom diverging colormap\n",
    "cmap = sns.diverging_palette(220, 10, as_cmap=True)\n",
    "\n",
    "# Draw the heatmap with the mask and correct aspect ratio\n",
    "sns.heatmap(corr, mask=mask, cmap=cmap, vmax=.3, center=0,\n",
    "            square=True, linewidths=.5, cbar_kws={\"shrink\": .5})"
   ]
  },
  {
   "cell_type": "code",
   "execution_count": null,
   "metadata": {
    "collapsed": true
   },
   "outputs": [],
   "source": [
    "import matplotlib.pyplot as plt\n",
    "import seaborn as sns"
   ]
  },
  {
   "cell_type": "code",
   "execution_count": null,
   "metadata": {},
   "outputs": [],
   "source": [
    "plt.show()"
   ]
  },
  {
   "cell_type": "code",
   "execution_count": null,
   "metadata": {},
   "outputs": [],
   "source": [
    "plt.show()"
   ]
  },
  {
   "cell_type": "code",
   "execution_count": null,
   "metadata": {
    "collapsed": true
   },
   "outputs": [],
   "source": []
  }
 ],
 "metadata": {
  "kernelspec": {
   "display_name": "Python 2",
   "language": "python",
   "name": "python2"
  },
  "language_info": {
   "codemirror_mode": {
    "name": "ipython",
    "version": 2
   },
   "file_extension": ".py",
   "mimetype": "text/x-python",
   "name": "python",
   "nbconvert_exporter": "python",
   "pygments_lexer": "ipython2",
   "version": "2.7.13"
  }
 },
 "nbformat": 4,
 "nbformat_minor": 2
}
